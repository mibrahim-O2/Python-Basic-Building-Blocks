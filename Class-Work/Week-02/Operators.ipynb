{
  "nbformat": 4,
  "nbformat_minor": 0,
  "metadata": {
    "colab": {
      "provenance": []
    },
    "kernelspec": {
      "name": "python3",
      "display_name": "Python 3"
    },
    "language_info": {
      "name": "python"
    }
  },
  "cells": [
    {
      "cell_type": "markdown",
      "source": [
        "# Operator in python\n",
        "## Arthmetic operator"
      ],
      "metadata": {
        "id": "4GF81OIl8opV"
      }
    },
    {
      "cell_type": "code",
      "execution_count": null,
      "metadata": {
        "colab": {
          "base_uri": "https://localhost:8080/"
        },
        "id": "3mgPZ6WF8fpw",
        "outputId": "adcc649c-d536-403c-d6b2-55ee596a954e"
      },
      "outputs": [
        {
          "output_type": "stream",
          "name": "stdout",
          "text": [
            "Enter First Number   2\n",
            "Enter Second Number  3\n",
            "\n",
            "Second number become the power of first number in square function\n",
            "\n",
            "Square of Two Number is            :       8\n",
            "Addition of Two Number is          :       5\n",
            "Subtraction of Two Number is       :       -1\n",
            "Float division of Two Number is    :       0.6666666666666666\n",
            "Multiplication of Two Number is    :       6\n",
            "Integer Division of Two Number is  :       0\n",
            "Modulus of Two Number is           :       2\n"
          ]
        }
      ],
      "source": [
        "num1 = int(input(\"Enter First Number   \"))\n",
        "num2 = int(input(\"Enter Second Number  \"))\n",
        "print() #for one line space\n",
        "print (\"Second number become the power of first number in square function\")\n",
        "print() #for one line space\n",
        "print(\"Square of Two Number is            :      \", num1 ** num2) #power/square\n",
        "print(\"Addition of Two Number is          :      \", num1 + num2)  #Addition\n",
        "print(\"Subtraction of Two Number is       :      \", num1 - num2)  #subtraction\n",
        "print(\"Float division of Two Number is    :      \", num1 / num2)  #Float divisionn\n",
        "print(\"Multiplication of Two Number is    :      \", num1 * num2)  #Multiplication\n",
        "print(\"Integer Division of Two Number is  :      \", num1 // num2) #Integer Division\n",
        "print(\"Modulus of Two Number is           :      \", num1 % num2)  #Modulus"
      ]
    },
    {
      "cell_type": "markdown",
      "source": [
        "# Relational operators(Return a boolean answer)"
      ],
      "metadata": {
        "id": "Kdh0kIj-D0a0"
      }
    },
    {
      "cell_type": "code",
      "source": [
        "num1 = int(input(\"Enter First Number   \"))\n",
        "num2 = int(input(\"Enter Second Number  \"))\n",
        "print() #for one line space\n",
        "\n",
        "print(\"First Number is == Second number  :    \", num1 == num2) #Equal to operator\n",
        "print(\"First Number is != Second number  :    \", num1 != num2) #Not equal to operator\n",
        "print(\"First Number is >  Second number  :    \", num1 > num2)  #Greator then operator\n",
        "print(\"First Number is >= Second number  :    \", num1 >= num2) #Greater then equal to operator\n",
        "print(\"First Number is <  Second number  :    \", num1 < num2)  #less then operator\n",
        "print(\"First Number is <= Second number  :    \", num1 <= num2) #less the equal to operator\n"
      ],
      "metadata": {
        "colab": {
          "base_uri": "https://localhost:8080/"
        },
        "id": "_sv6VtZFEKX5",
        "outputId": "f236ea0b-abff-45d6-d612-8152770cf573"
      },
      "execution_count": null,
      "outputs": [
        {
          "output_type": "stream",
          "name": "stdout",
          "text": [
            "Enter First Number   3\n",
            "Enter Second Number  5\n",
            "\n",
            "First Number is == Second number  :     False\n",
            "First Number is != Second number  :     True\n",
            "First Number is >  Second number  :     False\n",
            "First Number is >= Second number  :     False\n",
            "First Number is <  Second number  :     True\n",
            "First Number is <= Second number  :     True\n"
          ]
        }
      ]
    },
    {
      "cell_type": "markdown",
      "source": [
        "# Logical operator (Boolean answer)"
      ],
      "metadata": {
        "id": "KP0iDGpWJvKN"
      }
    },
    {
      "cell_type": "code",
      "source": [
        "num1 = int(input(\"Enter First Number:   \"))\n",
        "num2 = int(input(\"Enter Second Number:  \"))\n",
        "print()  # Line space\n",
        "\n",
        "# Logical Operator Examples (AND/OR/NOT)\n",
        "print(\"Logical Operator Combinations:\")\n",
        "print(\"Both numbers are positive?         :    \", (num1 > 0) and (num2 > 0))\n",
        "print(\"At least one number is even?       :    \", (num1 % 2 == 0) or (num2 % 2 == 0))\n",
        "print(\"First is NOT equal to second?      :    \", not (num1 == num2))\n",
        "print(\"First > 10 AND Second < 50?        :    \", (num1 > 10) and (num2 < 50))\n",
        "print(\"Either number is zero?             :    \", (num1 == 0) or (num2 == 0))"
      ],
      "metadata": {
        "colab": {
          "base_uri": "https://localhost:8080/"
        },
        "id": "0yPP8ezxJ37F",
        "outputId": "3e92bc6d-2968-4f5d-ef79-1f93bf1475a8"
      },
      "execution_count": null,
      "outputs": [
        {
          "output_type": "stream",
          "name": "stdout",
          "text": [
            "Enter First Number:   20\n",
            "Enter Second Number:  32\n",
            "\n",
            "Logical Operator Combinations:\n",
            "Both numbers are positive?         :     True\n",
            "At least one number is even?       :     True\n",
            "First is NOT equal to second?      :     True\n",
            "First > 10 AND Second < 50?        :     True\n",
            "Either number is zero?             :     False\n"
          ]
        }
      ]
    },
    {
      "cell_type": "markdown",
      "source": [
        "# Arthmetic Assignment Operator"
      ],
      "metadata": {
        "id": "EosWZHrJMoq0"
      }
    },
    {
      "cell_type": "code",
      "source": [
        "Num1 = int(input(\"Enter First Number   \"))\n",
        "Num2 = int(input(\"Enter Second Number  \"))\n",
        "\n",
        "# Using the arithmetic assignment operators\n",
        "\n",
        "Num1 += Num2  # Add Num2 to Num1 and store the result in Num1\n",
        "print(\"After Num1 += Num2, Num1 is:\",Num1)\n",
        "\n",
        "Num2 -= Num1 # Subtract Num1 from Num2 and store the result in Num2\n",
        "print(\"After Num2 -= Num1, Num2 is:\", Num2)\n",
        "\n",
        "# Check if Num2 is not zero before dividing to avoid division by zero error\n",
        "if Num2 != 0:\n",
        "    Num1 /= Num2  # Divide Num1 by Num2 and store the result in Num1\n",
        "    print(\"After Num1 /= Num2, Num1 is:\", Num1)\n",
        "else:\n",
        "    print(\"Cannot divide by zero.\")\n",
        "\n",
        "# Use floor division (//) for integer result division\n",
        "if Num2 != 0:\n",
        "    Num1 //= Num2  # Floor divide Num1 by Num2 and store the result in Num1\n",
        "    print(\"After Num1 //= Num2, Num1 is:\", Num1)\n",
        "else:\n",
        "    print(\"Cannot floor divide by zero.\")\n",
        "\n",
        "# Use exponentiation (Num1 ** Num2) to raise Num1 to the power of Num2\n",
        "Num2 **= Num1  # Raise Num1 to the power of Num2 and store the result in Num1\n",
        "print(\"After Num1 **= Num2, Num1 is:\", Num2)\n",
        "\n",
        "# Use modulus to find the remainder of Num1 divided by Num2\n",
        "if Num2 != 0:\n",
        "    Num1 %= Num2  # Get the remainder of Num1 divided by Num2 and store the result in Num1\n",
        "    print(\"After Num1 %= Num2, Num1 is:\", Num1)\n",
        "else:\n",
        "    print(\"Cannot calculate modulus by zero.\")\n",
        "\n"
      ],
      "metadata": {
        "id": "Bb1i94QoMytg",
        "colab": {
          "base_uri": "https://localhost:8080/"
        },
        "outputId": "e6bc1017-ac8d-41dd-ad81-2cee59361233"
      },
      "execution_count": null,
      "outputs": [
        {
          "output_type": "stream",
          "name": "stdout",
          "text": [
            "Enter First Number   2\n",
            "Enter Second Number  3\n",
            "After Num1 += Num2, Num1 is: 5\n",
            "After Num2 -= Num1, Num2 is: -2\n",
            "After Num1 /= Num2, Num1 is: -2.5\n",
            "After Num1 //= Num2, Num1 is: 1.0\n",
            "After Num1 **= Num2, Num1 is: -2.0\n",
            "After Num1 %= Num2, Num1 is: -1.0\n"
          ]
        }
      ]
    }
  ]
}