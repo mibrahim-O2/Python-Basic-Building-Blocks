{
  "nbformat": 4,
  "nbformat_minor": 0,
  "metadata": {
    "colab": {
      "provenance": []
    },
    "kernelspec": {
      "name": "python3",
      "display_name": "Python 3"
    },
    "language_info": {
      "name": "python"
    }
  },
  "cells": [
    {
      "cell_type": "markdown",
      "source": [
        "# Swapping two Number using third variable"
      ],
      "metadata": {
        "id": "gqo9liYf9VSd"
      }
    },
    {
      "cell_type": "code",
      "execution_count": 4,
      "metadata": {
        "colab": {
          "base_uri": "https://localhost:8080/"
        },
        "id": "Z1NZADSQ8pAu",
        "outputId": "78c76ee9-4b4d-4b93-a9e1-45e03f4af429"
      },
      "outputs": [
        {
          "output_type": "stream",
          "name": "stdout",
          "text": [
            "Enter first No:3\n",
            "Enter Second No:7\n",
            "Values befor Swapping:\n",
            "N1 =  3 , N2 =  7\n",
            "Values after Swapping:\n",
            "N1 =  7 , N2 =  3\n"
          ]
        }
      ],
      "source": [
        "N1 =  int (input(\"Enter first No:\"))\n",
        "N2 =  int (input(\"Enter Second No:\"))\n",
        "print(\"Values befor Swapping:\")\n",
        "print(\"N1 = \",N1 , \", N2 = \",N2)\n",
        "tem = N1\n",
        "N1 = N2\n",
        "N2 = tem\n",
        "print(\"Values after Swapping:\")\n",
        "print(\"N1 = \",N1 , \", N2 = \",N2)"
      ]
    },
    {
      "cell_type": "markdown",
      "source": [
        "Swapping two Numbers without using third variable"
      ],
      "metadata": {
        "id": "1iD_ERxP-Ghp"
      }
    },
    {
      "cell_type": "code",
      "source": [
        "N1 =  int (input(\"Enter first No:\"))\n",
        "N2 =  int (input(\"Enter Second No:\"))\n",
        "print(\"Values befor Swapping:\")\n",
        "print(\"N1 = \",N1 , \", N2 = \",N2)\n",
        "N1 = N1 + N2\n",
        "N2 = N1 - N2\n",
        "N1 = N1 - N2\n",
        "print(\"Values after Swapping:\")\n",
        "print(\"N1 = \",N1 , \", N2 = \",N2)"
      ],
      "metadata": {
        "colab": {
          "base_uri": "https://localhost:8080/"
        },
        "id": "1XvdDeFt-GFC",
        "outputId": "ef12c7a0-23e1-4298-a300-606af7aaa219"
      },
      "execution_count": 5,
      "outputs": [
        {
          "output_type": "stream",
          "name": "stdout",
          "text": [
            "Enter first No:3\n",
            "Enter Second No:9\n",
            "Values befor Swapping:\n",
            "N1 =  3 , N2 =  9\n",
            "Values after Swapping:\n",
            "N1 =  9 , N2 =  3\n"
          ]
        }
      ]
    },
    {
      "cell_type": "markdown",
      "source": [
        "Swapping two Numbers using XOR"
      ],
      "metadata": {
        "id": "_YoPzDel-ouY"
      }
    },
    {
      "cell_type": "code",
      "source": [
        "N1 =  int (input(\"Enter first No:\"))\n",
        "N2 =  int (input(\"Enter Second No:\"))\n",
        "print(\"Values befor Swapping:\")\n",
        "print(\"N1 = \",N1 , \", N2 = \",N2)\n",
        "N1 = N1 ^ N2\n",
        "N2 = N1 ^ N2\n",
        "N1 = N1 ^ N2\n",
        "print(\"Values after Swapping:\")\n",
        "print(\"N1 = \",N1 , \", N2 = \",N2)"
      ],
      "metadata": {
        "colab": {
          "base_uri": "https://localhost:8080/"
        },
        "id": "8_1gxtll-vaf",
        "outputId": "6bbc83c0-9684-4172-b3eb-fe8363a15fa4"
      },
      "execution_count": 3,
      "outputs": [
        {
          "output_type": "stream",
          "name": "stdout",
          "text": [
            "Enter first No:4\n",
            "Enter Second No:5\n",
            "Values befor Swapping:\n",
            "N1 =  4 , N2 =  5\n",
            "Values after Swapping:\n",
            "N1 =  5 , N2 =  4\n"
          ]
        }
      ]
    }
  ]
}