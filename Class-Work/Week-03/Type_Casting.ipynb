{
  "nbformat": 4,
  "nbformat_minor": 0,
  "metadata": {
    "colab": {
      "provenance": []
    },
    "kernelspec": {
      "name": "python3",
      "display_name": "Python 3"
    },
    "language_info": {
      "name": "python"
    }
  },
  "cells": [
    {
      "cell_type": "markdown",
      "source": [
        "The below python program is an example of explicit type casting, where both a and b are converted from strings to integers before being added:"
      ],
      "metadata": {
        "id": "zQeJESPYnDj1"
      }
    },
    {
      "cell_type": "code",
      "execution_count": null,
      "metadata": {
        "colab": {
          "base_uri": "https://localhost:8080/"
        },
        "id": "Jsh74smOm9q0",
        "outputId": "2442cabe-91c9-48e6-e22f-f86ab369d5cc"
      },
      "outputs": [
        {
          "output_type": "stream",
          "name": "stdout",
          "text": [
            "22\n"
          ]
        }
      ],
      "source": [
        "a = \"2\"    #String\n",
        "b = \"20\"   #String\n",
        "print(int(a)+ int(b))"
      ]
    },
    {
      "cell_type": "markdown",
      "source": [
        "The below python program is an example of implicite type casting, where both a (integer) and b(float) add an integer to a float, Python will automatically convert the integer to a float before performing the addition.\n"
      ],
      "metadata": {
        "id": "DvHBrlU7oQgO"
      }
    },
    {
      "cell_type": "code",
      "source": [
        "a = 3.57\n",
        "b = 3\n",
        "sum = a + b\n",
        "print(sum)"
      ],
      "metadata": {
        "colab": {
          "base_uri": "https://localhost:8080/"
        },
        "id": "bF_QWTEdpBna",
        "outputId": "a9dbb46b-fff4-43ad-d72b-8ead8e18a982"
      },
      "execution_count": null,
      "outputs": [
        {
          "output_type": "stream",
          "name": "stdout",
          "text": [
            "6.57\n"
          ]
        }
      ]
    }
  ]
}