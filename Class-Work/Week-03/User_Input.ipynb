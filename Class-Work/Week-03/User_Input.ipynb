{
  "nbformat": 4,
  "nbformat_minor": 0,
  "metadata": {
    "colab": {
      "provenance": []
    },
    "kernelspec": {
      "name": "python3",
      "display_name": "Python 3"
    },
    "language_info": {
      "name": "python"
    }
  },
  "cells": [
    {
      "cell_type": "markdown",
      "source": [
        "Take input two numbers from user and print the average of two number."
      ],
      "metadata": {
        "id": "02lVrPqrzH-G"
      }
    },
    {
      "cell_type": "code",
      "execution_count": null,
      "metadata": {
        "colab": {
          "base_uri": "https://localhost:8080/"
        },
        "id": "dwx-Ge1tzBto",
        "outputId": "ae074ced-5654-4d96-bf33-7edc751b3057"
      },
      "outputs": [
        {
          "output_type": "stream",
          "name": "stdout",
          "text": [
            "Enter first No: 3\n",
            "Enter second No: 5\n",
            "Average of two number is:  4.0\n"
          ]
        }
      ],
      "source": [
        "N1 = int (input(\"Enter first No: \"))\n",
        "N2 = int (input(\"Enter second No: \"))\n",
        "Avg = (N1 + N2)/2\n",
        "print(\"Average of two number is: \", Avg)"
      ]
    },
    {
      "cell_type": "markdown",
      "source": [
        "No 1 is >=  No 2 without using else if if N1 is >= to N2 then return True or otherwise false"
      ],
      "metadata": {
        "id": "Zdi6G4Dt1NNn"
      }
    },
    {
      "cell_type": "code",
      "source": [
        "N1 = int (input(\"Enter first No: \"))\n",
        "N2 = int (input(\"Enter second No: \"))\n",
        "print(N1 >= N2)"
      ],
      "metadata": {
        "colab": {
          "base_uri": "https://localhost:8080/"
        },
        "id": "OPmxzOBg1dQo",
        "outputId": "d498cc0b-16a7-4f3f-9656-ea5036f6a39f"
      },
      "execution_count": null,
      "outputs": [
        {
          "output_type": "stream",
          "name": "stdout",
          "text": [
            "Enter first No: 3\n",
            "Enter second No: 2\n",
            "True\n"
          ]
        }
      ]
    },
    {
      "cell_type": "code",
      "source": [],
      "metadata": {
        "id": "Tx0DlJ5PztFV"
      },
      "execution_count": null,
      "outputs": []
    }
  ]
}