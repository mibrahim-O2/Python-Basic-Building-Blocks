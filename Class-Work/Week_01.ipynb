{
  "nbformat": 4,
  "nbformat_minor": 0,
  "metadata": {
    "colab": {
      "provenance": []
    },
    "kernelspec": {
      "name": "python3",
      "display_name": "Python 3"
    },
    "language_info": {
      "name": "python"
    }
  },
  "cells": [
    {
      "cell_type": "markdown",
      "source": [
        "# Python_Notes Week_01\n",
        "\n",
        "**Computer:** Electronic Device for storing and processing data, typically in binary form, according to given instructions and reduces humans’ efforts.  \n",
        "\n",
        "**Program:** Set of instruction that a computer follows in order to perform a particular task.  \n",
        "\n",
        "**Computer Programming:** Act to write computer program or the process of writing instructions for a computer to follow. These instructions are called programs.  \n",
        "\n",
        "**Languages:** A structure system of communication that consists of grammar and vocabulary. It is primary means by which humans convey meaning, both in spoken and signed forms, and may also conveyed through writing.  \n",
        "\n",
        "**Translator:** A translator is a computer program that converts the programing instruction in binary language and source code that computer understand and process.  \n",
        "\n",
        "**High level language:** A programing language that is designed to make it easier for humans to understand and write.  \n",
        "\n",
        "**Assembly Language:** A programing language that translate high level language into machine language.  \n",
        "\n",
        "**Compiler based language:** A compiler-based language is a programming language that is converted into machine code using a compiler. This machine code is then executed by the processor. Programs are compiled into machine code before execution (e.g., C, C++).  \n",
        "\n",
        "**Interpreter Based Language:** An interpreted language is a programming language that executes instructions directly, without first compiling the code into machine language. Programs are executed line by line by an interpreter (e.g., Python, JavaScript).  \n",
        "\n",
        "**Compiler:** A compiler is a software that converts the source code to the object code. In other words, it converts the high-level language to machine/binary language.  \n",
        "\n",
        "**Interpreter:** An interpreter is a computer program that executes instructions in a programming language without converting them to machine code. It translates source code into object code one instruction at a time, and then immediately executes that object code.  \n",
        "\n",
        "### **Compile Time**\n",
        "Compile time is the time it takes to convert a program's source code into machine code. This process is done by a compiler.  \n",
        "\n",
        "**How it works:**  \n",
        "1. A compiler translates the source code into machine code.  \n",
        "2. The compiler checks for errors in the code.  \n",
        "3. If there are errors, the compiler won't execute the code until the errors are fixed.  \n",
        "4. The compiled code is loaded into memory and executed by a processor.  \n",
        "\n",
        "### **Run Time**\n",
        "Runtime is the period during which a program is executed by the computer. This is when the program's instructions are carried out by the processor.  \n",
        "\n",
        "**How it Works:**  \n",
        "1. The processor executes the compiled machine code (or interpreted code) line by line or instruction by instruction.  \n",
        "2. During runtime, the program checks for and handles errors that occur while the program is running (e.g., division by zero, null pointer exceptions, or file not found errors).  \n",
        "3. If errors occur during runtime, the program may crash, display an error message, or handle the error gracefully, depending on how it was programmed.  \n",
        "4. The program dynamically allocates and deallocates memory, interacts with hardware, and manages system resources (e.g., opening files, network connections) while it is running.  \n",
        "\n",
        "### **Key Differences**\n",
        "- **Compile Time:** Focuses on translating source code into machine code and checking for syntax or semantic errors before execution.  \n",
        "- **Runtime:** Focuses on executing the compiled or interpreted code, handling dynamic errors, and managing system resources during program execution.  \n",
        "\n",
        "### **Errors**\n",
        "- **Syntax Error:** A mistake in the structure of the code that violates the rules of the programming language.  \n",
        "  *Example:* Missing semicolons, unmatched parentheses, or typos in keywords.  \n",
        "\n",
        "- **Run Time Error:** An error that occurs while the program is running. The code compiles successfully but fails during execution.  \n",
        "  *Example:* Division by zero, accessing an invalid index in an array, or null pointer dereference.  \n",
        "\n",
        "- **Compile Time Error:** An error detected during compilation (before the program runs). Includes syntax errors and other issues like:  \n",
        "  • Type mismatches (e.g., assigning a string to an integer variable).  \n",
        "  • Undeclared variables or functions.  \n",
        "  • Missing imports or incorrect method signatures.  \n",
        "\n",
        "**Case-sensitive:** Case sensitivity describes a programming language's ability to distinguish between upper and lower case versions of a letter. Examples of case sensitive programming languages include Python, C#, and Java.  \n",
        "\n",
        "**Syntax:** In programing, syntax refers to the set of rules that defines the structure and order of symbols, keywords, and punctuation used to write valid code in specific programing language.  \n",
        "\n",
        "*Example:*  \n",
        "- In Python, to print \"Hello, World!\" the syntax is: `print(\"Hello, World!\")`.  \n",
        "- This means that the \"print\" keyword needs to be used followed by parentheses containing the string to be printed.  \n",
        "\n",
        "**Character Set:** A character set is a collection of characters used to represent text in a computer system. It includes letters, numbers, symbols, and other characters that a computer can display or process.  \n",
        "\n",
        "**Reserve words:** Reserved words in Python are words that are reserved by the Python language for specific purposes. These words cannot be used as identifiers (like variable names, function names, etc.) because they are meant to have a special meaning or are kept for future use in the language.  \n",
        "*Examples of reserved words in Python:* False, await, async, None, True, yield, def, if, else, return, import, from, etc.  \n",
        "\n",
        "**Keywords:** Keywords are a subset of reserved words that are actively used in the language to perform specific operations or define language structures. Keywords are essential for the syntax and control flow of the program.  \n",
        "*Examples of keywords in Python:* def, if, else, while, for, break, continue, return, import, class, try, except.  \n",
        "\n",
        "These words are part of the Python syntax and perform specific tasks in the language. For instance:  \n",
        "- `def` is used to define functions.  \n",
        "- `if`, `else` are used for conditional statements.  \n",
        "- `for`, `while` are used for loops.  \n",
        "- `return` is used to exit a function and return a value.  \n",
        "\n",
        "**Special Words:** Are words used in certain contexts that aren’t keywords but have a special meaning or behavior in those contexts (like `self` in Python classes).  \n",
        "\n",
        "### **Memory**\n",
        "In programming languages, \"memory\" refers to a dedicated space within a computer where data (like numbers, text, or instructions) is stored and accessed by the program during execution, essentially acting like a collection of \"buckets\" with unique addresses, allowing the program to retrieve and manipulate information as needed; it's like a temporary workspace where the program keeps track of its current information while running.  \n",
        "\n",
        "**Key points about memory in programming:**  \n",
        "- **Data storage:** The primary function of memory is to hold the data a program needs to operate, including variables, function arguments, and intermediate results.  \n",
        "- **Addressing:** Each piece of data in memory has a unique address, which allows the program to access it specifically.  \n",
        "- **Logical vs. Physical Memory:** While a programmer interacts with \"logical memory\" (an abstraction of memory addresses), the actual physical hardware (RAM) stores the data in a different way, managed by the operating system.  \n",
        "- **Memory management:** Programmers need to manage memory by allocating space for data when needed and releasing it when no longer required to avoid memory leaks.  \n",
        "\n",
        "### **Data-type**\n",
        "In programming languages, data types are classifications that define the kind of value a variable can hold, including common types like integers, floating-point numbers (floats), characters, strings, and booleans, which are essential for performing operations on data accurately and efficiently.  \n",
        "\n",
        "- **Numeric data types:**  \n",
        "  - `int` (integer): Whole numbers like 1, 2, 3, -5.  \n",
        "  - `float` (floating-point): Numbers with decimal places like 3.14, -2.5.  \n",
        "\n",
        "- **Text data type:**  \n",
        "  - `str` (string): Sequences of characters enclosed in quotes like \"Hello World\".  \n",
        "\n",
        "- **Boolean data type:**  \n",
        "  - `bool` (boolean): Represents logical values True or False.  \n",
        "\n",
        "### **Variables**\n",
        "Variables are the logical names of memory locations where we can store our data or variable has ability to change its values.\n"
      ],
      "metadata": {
        "id": "KfZTRNse4oq9"
      }
    },
    {
      "cell_type": "code",
      "execution_count": null,
      "metadata": {
        "colab": {
          "base_uri": "https://localhost:8080/"
        },
        "id": "yWL-eazi4jRD",
        "outputId": "cd0ef3aa-7bbe-4fdd-ac07-b1aea4641c97"
      },
      "outputs": [
        {
          "output_type": "stream",
          "name": "stdout",
          "text": [
            "Hello World\n"
          ]
        }
      ],
      "source": [
        "print(\"Hello World\")"
      ]
    },
    {
      "cell_type": "code",
      "source": [
        "print(\"Muhammad Ibrahim\")"
      ],
      "metadata": {
        "colab": {
          "base_uri": "https://localhost:8080/"
        },
        "id": "zqp9wMsI5vzi",
        "outputId": "0f095639-1ac1-454c-9e67-29ea68460ac7"
      },
      "execution_count": null,
      "outputs": [
        {
          "output_type": "stream",
          "name": "stdout",
          "text": [
            "Muhammad Ibrahim\n"
          ]
        }
      ]
    }
  ]
}